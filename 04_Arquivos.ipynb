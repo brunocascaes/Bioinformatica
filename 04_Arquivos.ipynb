{
  "nbformat": 4,
  "nbformat_minor": 0,
  "metadata": {
    "colab": {
      "name": "Atividade 4. Arquivos.ipynb",
      "provenance": [],
      "collapsed_sections": []
    },
    "kernelspec": {
      "name": "python3",
      "display_name": "Python 3"
    }
  },
  "cells": [
    {
      "cell_type": "markdown",
      "metadata": {
        "id": "4huhdBrPVrab"
      },
      "source": [
        "# **Exercício arquivos: Curso python para bioinformática**"
      ]
    },
    {
      "cell_type": "markdown",
      "metadata": {
        "id": "QWbFqFPDWDQf"
      },
      "source": [
        "### Tutorial"
      ]
    },
    {
      "cell_type": "code",
      "metadata": {
        "id": "2u5uRta8Vm68",
        "colab": {
          "base_uri": "https://localhost:8080/"
        },
        "outputId": "2d63cc43-5426-481c-834b-6898a37edea9"
      },
      "source": [
        "file = open('file1.txt', 'r')\r\n",
        "for line in file:\r\n",
        "  print(line)\r\n",
        "file.close()"
      ],
      "execution_count": null,
      "outputs": [
        {
          "output_type": "stream",
          "text": [
            "Python para bioinformática\n",
            "\n",
            "Universidade Federal de Pelotas\n"
          ],
          "name": "stdout"
        }
      ]
    },
    {
      "cell_type": "code",
      "metadata": {
        "id": "nCPg1HozX2Av"
      },
      "source": [
        "file = open('file2.txt', 'w')\r\n",
        "file.write('Atividade 4. Arquivos\\n')\r\n",
        "file.write('Bruno Cascaes Alves')\r\n",
        "file.close()"
      ],
      "execution_count": null,
      "outputs": []
    },
    {
      "cell_type": "code",
      "metadata": {
        "id": "uYVNVj2yYZDl"
      },
      "source": [
        "file = open('file2.txt', 'a')\r\n",
        "file.write('\\n11 de janeiro de 2021')\r\n",
        "file.close()"
      ],
      "execution_count": null,
      "outputs": []
    },
    {
      "cell_type": "markdown",
      "metadata": {
        "id": "KDE0LJqPYosC"
      },
      "source": [
        "### Atividades"
      ]
    },
    {
      "cell_type": "code",
      "metadata": {
        "id": "aLgGTqoiYvOz"
      },
      "source": [
        "file = open('gene.seq.txt', 'w') #cria arquivo\r\n",
        "file.write('ATCGAGA')\r\n",
        "file.close()"
      ],
      "execution_count": null,
      "outputs": []
    },
    {
      "cell_type": "code",
      "metadata": {
        "colab": {
          "base_uri": "https://localhost:8080/"
        },
        "id": "IWvl4pFdYreg",
        "outputId": "f7d6d157-25e5-4a66-a4f7-d855a1336f84"
      },
      "source": [
        "file = open('gene.seq.txt', 'r') #lê arquivo\r\n",
        "for line in file:\r\n",
        "  print(line)\r\n",
        "file.close()"
      ],
      "execution_count": null,
      "outputs": [
        {
          "output_type": "stream",
          "text": [
            "ATCGAGA\n"
          ],
          "name": "stdout"
        }
      ]
    }
  ]
}