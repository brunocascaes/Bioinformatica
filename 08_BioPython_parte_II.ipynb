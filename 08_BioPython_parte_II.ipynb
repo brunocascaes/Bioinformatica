{
  "nbformat": 4,
  "nbformat_minor": 0,
  "metadata": {
    "colab": {
      "name": "Atividade 8. BioPython parte II.ipynb",
      "provenance": []
    },
    "kernelspec": {
      "name": "python3",
      "display_name": "Python 3"
    }
  },
  "cells": [
    {
      "cell_type": "markdown",
      "metadata": {
        "id": "iQZIdw2VkSE7"
      },
      "source": [
        "# **Exercício BioPython Parte II: Curso python para bioinformática**"
      ]
    },
    {
      "cell_type": "code",
      "metadata": {
        "colab": {
          "base_uri": "https://localhost:8080/"
        },
        "id": "lDwGONUwkO5d",
        "outputId": "98d9e50d-5546-4b86-e24e-71026051336d"
      },
      "source": [
        "!pip install biopython\r\n",
        "!apt install ncbi-blast+"
      ],
      "execution_count": null,
      "outputs": [
        {
          "output_type": "stream",
          "text": [
            "Requirement already satisfied: biopython in /usr/local/lib/python3.6/dist-packages (1.78)\n",
            "Requirement already satisfied: numpy in /usr/local/lib/python3.6/dist-packages (from biopython) (1.19.5)\n",
            "Reading package lists... Done\n",
            "Building dependency tree       \n",
            "Reading state information... Done\n",
            "The following additional packages will be installed:\n",
            "  ncbi-data\n",
            "The following NEW packages will be installed:\n",
            "  ncbi-blast+ ncbi-data\n",
            "0 upgraded, 2 newly installed, 0 to remove and 16 not upgraded.\n",
            "Need to get 13.1 MB of archives.\n",
            "After this operation, 66.7 MB of additional disk space will be used.\n",
            "Get:1 http://archive.ubuntu.com/ubuntu bionic/universe amd64 ncbi-data all 6.1.20170106-2 [3,645 kB]\n",
            "Get:2 http://archive.ubuntu.com/ubuntu bionic/universe amd64 ncbi-blast+ amd64 2.6.0-1 [9,446 kB]\n",
            "Fetched 13.1 MB in 1s (9,546 kB/s)\n",
            "Selecting previously unselected package ncbi-data.\n",
            "(Reading database ... 145483 files and directories currently installed.)\n",
            "Preparing to unpack .../ncbi-data_6.1.20170106-2_all.deb ...\n",
            "Unpacking ncbi-data (6.1.20170106-2) ...\n",
            "Selecting previously unselected package ncbi-blast+.\n",
            "Preparing to unpack .../ncbi-blast+_2.6.0-1_amd64.deb ...\n",
            "Unpacking ncbi-blast+ (2.6.0-1) ...\n",
            "Setting up ncbi-data (6.1.20170106-2) ...\n",
            "Setting up ncbi-blast+ (2.6.0-1) ...\n",
            "Processing triggers for hicolor-icon-theme (0.17-2) ...\n",
            "Processing triggers for man-db (2.8.3-2ubuntu0.1) ...\n"
          ],
          "name": "stdout"
        }
      ]
    },
    {
      "cell_type": "code",
      "metadata": {
        "id": "0gDYNQS9keRU"
      },
      "source": [
        "from Bio.Blast import NCBIXML #processa os resultados do blast"
      ],
      "execution_count": null,
      "outputs": []
    },
    {
      "cell_type": "code",
      "metadata": {
        "id": "fwVzu_S6mDUS"
      },
      "source": [
        "from Bio.Blast.Applications import NcbimakeblastdbCommandline\r\n",
        "#cria um db pro blast a partir de um arquivo fasta"
      ],
      "execution_count": null,
      "outputs": []
    },
    {
      "cell_type": "code",
      "metadata": {
        "id": "s_iVudFHmHmF"
      },
      "source": [
        "from Bio.Blast.Applications import NcbiblastpCommandline \r\n",
        "#executa o comando blast p (subcomando do blast), serve pra consultar \r\n",
        "#sequencias de proteinas em banco de dados de proteinas"
      ],
      "execution_count": null,
      "outputs": []
    },
    {
      "cell_type": "code",
      "metadata": {
        "colab": {
          "base_uri": "https://localhost:8080/"
        },
        "id": "Tj-pxJR8mNZ0",
        "outputId": "9b0e656c-a965-46fd-bde0-e33dd31a0fa8"
      },
      "source": [
        "makeblastdb = NcbimakeblastdbCommandline(input_file = 'proteins.fasta',\r\n",
        "                                         dbtype = 'prot', out = 'database')\r\n",
        "makeblastdb()"
      ],
      "execution_count": null,
      "outputs": [
        {
          "output_type": "execute_result",
          "data": {
            "text/plain": [
              "('\\n\\nBuilding a new DB, current time: 01/11/2021 17:59:03\\nNew DB name:   /content/database\\nNew DB title:  proteins.fasta\\nSequence type: Protein\\nKeep MBits: T\\nMaximum file size: 1000000000B\\nAdding sequences from FASTA; added 457 sequences in 0.018657 seconds.\\n',\n",
              " '')"
            ]
          },
          "metadata": {
            "tags": []
          },
          "execution_count": 10
        }
      ]
    },
    {
      "cell_type": "code",
      "metadata": {
        "colab": {
          "base_uri": "https://localhost:8080/"
        },
        "id": "zB9TvzsUmkE6",
        "outputId": "fbd4573a-2a12-46f6-e10b-a2fa3acaa464"
      },
      "source": [
        "blastp = NcbiblastpCommandline(query = 'query.fasta', db='database',\r\n",
        "                               out='results.xml', outfmt=5)\r\n",
        "blastp()"
      ],
      "execution_count": null,
      "outputs": [
        {
          "output_type": "execute_result",
          "data": {
            "text/plain": [
              "('', '')"
            ]
          },
          "metadata": {
            "tags": []
          },
          "execution_count": 11
        }
      ]
    },
    {
      "cell_type": "code",
      "metadata": {
        "colab": {
          "base_uri": "https://localhost:8080/"
        },
        "id": "7vJ7sbqNnGAY",
        "outputId": "3a40816e-f2c6-44fb-f3c5-2d15e4a9f556"
      },
      "source": [
        "reader = open('results.xml', 'r')\r\n",
        "parser = NCBIXML.parse(reader)\r\n",
        "\r\n",
        "for record in parser:\r\n",
        "  for alignment in record.alignments:\r\n",
        "    for hsp in alignment.hsps:\r\n",
        "      evalue = hsp.expect\r\n",
        "      break\r\n",
        "    print(record.query.split(' ')[0], alignment.hit_def.split(' ')[0],\r\n",
        "          evalue, sep = ',')\r\n",
        "#hsp: valor de confiança do blast (grau de similaridade entre duas sequências)"
      ],
      "execution_count": null,
      "outputs": [
        {
          "output_type": "stream",
          "text": [
            "sp|P0DTC2|SPIKE_SARS2,sp|P0DTC2|SPIKE_SARS2,0.0\n",
            "sp|P0DTC2|SPIKE_SARS2,sp|P59594|SPIKE_SARS,0.0\n",
            "sp|P0DTC2|SPIKE_SARS2,sp|Q3LZX1|SPIKE_BCHK3,0.0\n",
            "sp|P0DTC2|SPIKE_SARS2,sp|Q3I5J5|SPIKE_BCRP3,0.0\n",
            "sp|P0DTC2|SPIKE_SARS2,sp|Q0Q475|SPIKE_BC279,0.0\n",
            "sp|P0DTC2|SPIKE_SARS2,sp|A3EXG6|SPIKE_BCHK9,0.0\n",
            "sp|P0DTC2|SPIKE_SARS2,sp|A3EXD0|SPIKE_BCHK5,0.0\n",
            "sp|P0DTC2|SPIKE_SARS2,sp|Q0Q4F2|SPIKE_BC133,0.0\n",
            "sp|P0DTC2|SPIKE_SARS2,sp|K9N5Q8|SPIKE_MERS1,2.70519e-176\n",
            "sp|P0DTC2|SPIKE_SARS2,sp|P11225|SPIKE_CVMJH,7.36478e-167\n",
            "sp|P0DTC2|SPIKE_SARS2,sp|A3EX94|SPIKE_BCHK4,1.2832e-155\n",
            "sp|P0DTC2|SPIKE_SARS2,sp|P25192|SPIKE_CVBLY,1.32759e-150\n",
            "sp|P0DTC2|SPIKE_SARS2,sp|Q9QAQ8|SPIKE_CVBOK,1.39721e-150\n",
            "sp|P0DTC2|SPIKE_SARS2,sp|Q91A26|SPIKE_CVBEN,2.2133e-150\n",
            "sp|P0DTC2|SPIKE_SARS2,sp|Q8V436|SPIKE_CVBLU,2.94666e-150\n",
            "sp|P0DTC2|SPIKE_SARS2,sp|Q9QAR5|SPIKE_CVBLS,5.55262e-150\n",
            "sp|P0DTC2|SPIKE_SARS2,sp|P25194|SPIKE_CVBV,4.69475e-149\n",
            "sp|P0DTC2|SPIKE_SARS2,sp|P25191|SPIKE_CVBL9,4.00341e-148\n",
            "sp|P0DTC2|SPIKE_SARS2,sp|P15777|SPIKE_CVBM,1.05504e-147\n",
            "sp|P0DTC2|SPIKE_SARS2,sp|P25190|SPIKE_CVBF,1.09897e-147\n",
            "sp|P0DTC2|SPIKE_SARS2,sp|P25193|SPIKE_CVBQ,2.3147e-146\n",
            "sp|P0DTC2|SPIKE_SARS2,sp|Q0ZME7|SPIKE_CVHN5,6.39918e-144\n",
            "sp|P0DTC2|SPIKE_SARS2,sp|Q14EB0|SPIKE_CVHN2,1.95834e-143\n",
            "sp|P0DTC2|SPIKE_SARS2,sp|P36334|SPIKE_CVHOC,4.30846e-143\n",
            "sp|P0DTC2|SPIKE_SARS2,sp|P11224|SPIKE_CVMA5,1.94419e-141\n",
            "sp|P0DTC2|SPIKE_SARS2,sp|Q02385|SPIKE_CVMJC,8.87915e-141\n",
            "sp|P0DTC2|SPIKE_SARS2,sp|P22432|SPIKE_CVM4,1.05469e-140\n",
            "sp|P0DTC2|SPIKE_SARS2,sp|Q9IKD1|SPIKE_CVRSD,1.34485e-139\n",
            "sp|P0DTC2|SPIKE_SARS2,sp|Q5MQD0|SPIKE_CVHN1,1.13877e-138\n",
            "sp|P0DTC2|SPIKE_SARS2,sp|P15423|SPIKE_CVH22,5.76231e-108\n",
            "sp|P0DTC2|SPIKE_SARS2,sp|P12650|SPIKE_IBVK,4.59326e-104\n",
            "sp|P0DTC2|SPIKE_SARS2,sp|P12651|SPIKE_IBVM,6.48226e-103\n",
            "sp|P0DTC2|SPIKE_SARS2,sp|P05135|SPIKE_IBV6,4.85268e-102\n",
            "sp|P0DTC2|SPIKE_SARS2,sp|Q6Q1S2|SPIKE_CVHNL,8.89214e-102\n",
            "sp|P0DTC2|SPIKE_SARS2,sp|P12722|SPIKE_IBVD2,1.20762e-101\n",
            "sp|P0DTC2|SPIKE_SARS2,sp|P27655|SPIKE_CVPR8,1.06041e-100\n",
            "sp|P0DTC2|SPIKE_SARS2,sp|P11223|SPIKE_IBVB,4.52663e-100\n",
            "sp|P0DTC2|SPIKE_SARS2,sp|P24413|SPIKE_CVPRM,9.21036e-99\n",
            "sp|P0DTC2|SPIKE_SARS2,sp|Q65984|SPIKE_CVCAK,4.24745e-98\n",
            "sp|P0DTC2|SPIKE_SARS2,sp|Q0Q466|SPIKE_BC512,9.61583e-98\n",
            "sp|P0DTC2|SPIKE_SARS2,sp|P10033|SPIKE_FIPV,2.10031e-97\n",
            "sp|P0DTC2|SPIKE_SARS2,sp|P07946|SPIKE_CVPPU,2.84023e-97\n",
            "sp|P0DTC2|SPIKE_SARS2,sp|Q7T6T3|SPIKE_CVCBG,3.13666e-97\n",
            "sp|P0DTC2|SPIKE_SARS2,sp|P33470|SPIKE_CVPMI,1.14318e-96\n",
            "sp|P0DTC2|SPIKE_SARS2,sp|Q01977|SPIKE_CVPRT,2.64316e-96\n",
            "sp|P0DTC2|SPIKE_SARS2,sp|P18450|SPIKE_CVPFS,1.19678e-95\n",
            "sp|P0DTC2|SPIKE_SARS2,sp|P36300|SPIKE_CVCAI,2.26923e-94\n",
            "sp|P0DTC2|SPIKE_SARS2,sp|P19743|NS7B_FIPV,0.894905\n",
            "sp|P0DTC2|SPIKE_SARS2,sp|P0C6X1|R1AB_CVH22,3.28685\n",
            "sp|P0DTC2|SPIKE_SARS2,sp|Q0ZME4|VME1_CVHN5,3.71136\n",
            "sp|P0DTC2|SPIKE_SARS2,sp|Q14EA7|VME1_CVHN2,3.81065\n",
            "sp|P0DTC2|SPIKE_SARS2,sp|P0C6V1|R1A_CVMJH,5.09906\n",
            "sp|P0DTC2|SPIKE_SARS2,sp|P0C6Y0|R1AB_CVMJH,6.0231\n",
            "sp|P0DTC2|SPIKE_SARS2,sp|P0C6U9|R1A_CVM2,6.39683\n",
            "sp|P0DTC2|SPIKE_SARS2,sp|P0C6X8|R1AB_CVM2,6.44129\n",
            "sp|P0DTC2|SPIKE_SARS2,sp|Q5MQC7|VME1_CVHN1,6.57377\n",
            "sp|P0DTC2|SPIKE_SARS2,sp|P0C6X4|R1AB_CVHN5,7.18477\n",
            "sp|P0DTC2|SPIKE_SARS2,sp|P0C6X2|R1AB_CVHN1,7.24595\n",
            "sp|P0DTC2|SPIKE_SARS2,sp|P30207|SPIKE_IBVU2,7.69808\n",
            "sp|P0DTC2|SPIKE_SARS2,sp|P30206|SPIKE_IBVU1,7.9651\n",
            "sp|P0DTC2|SPIKE_SARS2,sp|P17662|SPIKE_IBVD3,8.17849\n",
            "sp|P0DTC2|SPIKE_SARS2,sp|P30208|SPIKE_IBVU3,8.31194\n",
            "sp|P0DTC2|SPIKE_SARS2,sp|P0C6X3|R1AB_CVHN2,8.49969\n"
          ],
          "name": "stdout"
        }
      ]
    }
  ]
}