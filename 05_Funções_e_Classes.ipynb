{
  "nbformat": 4,
  "nbformat_minor": 0,
  "metadata": {
    "colab": {
      "name": "Atividade 5. Funções e Classes.ipynb",
      "provenance": []
    },
    "kernelspec": {
      "name": "python3",
      "display_name": "Python 3"
    }
  },
  "cells": [
    {
      "cell_type": "markdown",
      "metadata": {
        "id": "czYVmIkpaKYD"
      },
      "source": [
        "# **Exercício funções e classes: Curso python para bioinformática**"
      ]
    },
    {
      "cell_type": "markdown",
      "metadata": {
        "id": "nReD9UbjO-sd"
      },
      "source": [
        "## Funções"
      ]
    },
    {
      "cell_type": "code",
      "metadata": {
        "id": "0VwqTBAKaDzY"
      },
      "source": [
        "def sum(a, b):\r\n",
        "  return a+b"
      ],
      "execution_count": null,
      "outputs": []
    },
    {
      "cell_type": "code",
      "metadata": {
        "colab": {
          "base_uri": "https://localhost:8080/"
        },
        "id": "Eg1iL7wPPObq",
        "outputId": "f50fd915-80b0-4dbe-cc72-9581bc983647"
      },
      "source": [
        "result = sum(3, 4)\r\n",
        "print(result)"
      ],
      "execution_count": null,
      "outputs": [
        {
          "output_type": "stream",
          "text": [
            "7\n"
          ],
          "name": "stdout"
        }
      ]
    },
    {
      "cell_type": "markdown",
      "metadata": {
        "id": "o4LGwYevPhH9"
      },
      "source": [
        "### Exemplo 1: conteúdo GC"
      ]
    },
    {
      "cell_type": "code",
      "metadata": {
        "id": "tHnmy6znPlM6"
      },
      "source": [
        "def gc_content(dna_sequence):\r\n",
        "  dna_sequence_len = len(dna_sequence)\r\n",
        "  gc_count = 0\r\n",
        "  \r\n",
        "  for base in dna_sequence:\r\n",
        "    if base == 'g' or base == 'c':\r\n",
        "      gc_count += 1\r\n",
        "  gc_content = gc_count / dna_sequence_len\r\n",
        "  return gc_content"
      ],
      "execution_count": null,
      "outputs": []
    },
    {
      "cell_type": "code",
      "metadata": {
        "colab": {
          "base_uri": "https://localhost:8080/"
        },
        "id": "D0bxdjbRQXiW",
        "outputId": "d1cd033e-6f82-43a6-b764-dabe41b70145"
      },
      "source": [
        "gc_content('atgagagacttaggg')"
      ],
      "execution_count": null,
      "outputs": [
        {
          "output_type": "execute_result",
          "data": {
            "text/plain": [
              "0.4666666666666667"
            ]
          },
          "metadata": {
            "tags": []
          },
          "execution_count": 5
        }
      ]
    },
    {
      "cell_type": "markdown",
      "metadata": {
        "id": "jIDz-zjjQnfg"
      },
      "source": [
        "### Exemplo 2: transcrição (dna->rna)\r\n"
      ]
    },
    {
      "cell_type": "code",
      "metadata": {
        "id": "kqkEHKZUQrlr"
      },
      "source": [
        "def transcribe(dna_sequence):\r\n",
        "  rna_sequence = ''\r\n",
        "  for base in dna_sequence:\r\n",
        "    if base == 't':\r\n",
        "      rna_sequence += 'u'\r\n",
        "    else:\r\n",
        "      rna_sequence += base\r\n",
        "  return rna_sequence"
      ],
      "execution_count": null,
      "outputs": []
    },
    {
      "cell_type": "code",
      "metadata": {
        "colab": {
          "base_uri": "https://localhost:8080/",
          "height": 35
        },
        "id": "GKEuenprQ_dL",
        "outputId": "e203e4a4-b6d0-4a1e-d727-5bf0704f8b06"
      },
      "source": [
        "transcribe('attcgtta')"
      ],
      "execution_count": null,
      "outputs": [
        {
          "output_type": "execute_result",
          "data": {
            "application/vnd.google.colaboratory.intrinsic+json": {
              "type": "string"
            },
            "text/plain": [
              "'auucguua'"
            ]
          },
          "metadata": {
            "tags": []
          },
          "execution_count": 7
        }
      ]
    },
    {
      "cell_type": "code",
      "metadata": {
        "id": "R7Je4dOZRNNw"
      },
      "source": [
        "def transcribe(dna_sequence):\r\n",
        "  rna_sequence = dna_sequence.replace('t', 'u')\r\n",
        "  return rna_sequence"
      ],
      "execution_count": null,
      "outputs": []
    },
    {
      "cell_type": "code",
      "metadata": {
        "colab": {
          "base_uri": "https://localhost:8080/",
          "height": 35
        },
        "id": "PwjsKcetRTk2",
        "outputId": "748c5c82-e208-4926-ff2b-bc1da94f61ec"
      },
      "source": [
        "transcribe('attcgtta')"
      ],
      "execution_count": null,
      "outputs": [
        {
          "output_type": "execute_result",
          "data": {
            "application/vnd.google.colaboratory.intrinsic+json": {
              "type": "string"
            },
            "text/plain": [
              "'auucguua'"
            ]
          },
          "metadata": {
            "tags": []
          },
          "execution_count": 9
        }
      ]
    },
    {
      "cell_type": "markdown",
      "metadata": {
        "id": "efRd5hwVRd4d"
      },
      "source": [
        "### Exemplo 3: tradução\r\n"
      ]
    },
    {
      "cell_type": "code",
      "metadata": {
        "id": "hvP3TXMuRgMR"
      },
      "source": [
        "genetic_code = { \r\n",
        "  'ata':'i', 'atc':'i', 'att':'i', 'atg':'m', \r\n",
        "  'aca':'t', 'acc':'t', 'acg':'t', 'act':'t', \r\n",
        "  'aac':'n', 'aat':'n', 'aaa':'k', 'aag':'k', \r\n",
        "  'agc':'s', 'agt':'s', 'aga':'r', 'agg':'r',\r\n",
        "  'cta':'l', 'ctc':'l', 'ctg':'l', 'ctt':'l', \r\n",
        "  'cca':'p', 'ccc':'p', 'ccg':'p', 'cct':'p', \r\n",
        "  'cac':'h', 'cat':'h', 'caa':'q', 'cag':'q', \r\n",
        "  'cga':'r', 'cgc':'r', 'cgg':'r', 'cgt':'r', \r\n",
        "  'gta':'v', 'gtc':'v', 'gtg':'v', 'gtt':'v', \r\n",
        "  'gca':'a', 'gcc':'a', 'gcg':'a', 'gct':'a', \r\n",
        "  'gac':'d', 'gat':'d', 'gaa':'e', 'gag':'e', \r\n",
        "  'gga':'g', 'ggc':'g', 'ggg':'g', 'ggt':'g', \r\n",
        "  'tca':'s', 'tcc':'s', 'tcg':'s', 'tct':'s', \r\n",
        "  'ttc':'f', 'ttt':'f', 'tta':'l', 'ttg':'l', \r\n",
        "  'tac':'y', 'tat':'y', 'taa':'*', 'tag':'*', \r\n",
        "  'tgc':'c', 'tgt':'c', 'tga':'*', 'tgg':'w', \r\n",
        "}"
      ],
      "execution_count": null,
      "outputs": []
    },
    {
      "cell_type": "code",
      "metadata": {
        "id": "HVzmpnGTR0uh"
      },
      "source": [
        "def translate(dna_sequence):\r\n",
        "  dna_sequence_len = len(dna_sequence)\r\n",
        "  protein_sequence = ''\r\n",
        "  for position in range(0, dna_sequence_len, 3):\r\n",
        "    codon = dna_sequence[position:position+3]\r\n",
        "    if len(codon) == 3:\r\n",
        "      aminoacid = genetic_code[codon]\r\n",
        "      protein_sequence += aminoacid\r\n",
        "  return protein_sequence"
      ],
      "execution_count": null,
      "outputs": []
    },
    {
      "cell_type": "code",
      "metadata": {
        "colab": {
          "base_uri": "https://localhost:8080/",
          "height": 120
        },
        "id": "z335UA21S0Z-",
        "outputId": "e76c2cc8-2b85-492d-f6fb-13d986d9ed51"
      },
      "source": [
        "translate('atgcccgggtaaaaa')"
      ],
      "execution_count": null,
      "outputs": [
        {
          "output_type": "stream",
          "text": [
            "atg\n",
            "ccc\n",
            "ggg\n",
            "taa\n",
            "aaa\n"
          ],
          "name": "stdout"
        },
        {
          "output_type": "execute_result",
          "data": {
            "application/vnd.google.colaboratory.intrinsic+json": {
              "type": "string"
            },
            "text/plain": [
              "'mpg*k'"
            ]
          },
          "metadata": {
            "tags": []
          },
          "execution_count": 19
        }
      ]
    },
    {
      "cell_type": "markdown",
      "metadata": {
        "id": "i8zaZR4nTznN"
      },
      "source": [
        "## Programação orientada à objetos"
      ]
    },
    {
      "cell_type": "code",
      "metadata": {
        "id": "dVEYVOdHT2S1"
      },
      "source": [
        "class Sequence:\r\n",
        "  dna_sequence = 'atcg'"
      ],
      "execution_count": null,
      "outputs": []
    },
    {
      "cell_type": "code",
      "metadata": {
        "colab": {
          "base_uri": "https://localhost:8080/"
        },
        "id": "lZv4u5-hUO0y",
        "outputId": "faf03de5-fc89-4ebb-ff48-c6e032abaaf0"
      },
      "source": [
        "sequence_1 = Sequence()\r\n",
        "print(sequence_1.dna_sequence)\r\n",
        "\r\n",
        "sequence_1.dna_sequence = 'aatt'\r\n",
        "print(sequence_1.dna_sequence)\r\n",
        "\r\n",
        "sequence_2 = Sequence()\r\n",
        "print(sequence_2.dna_sequence)\r\n",
        "\r\n",
        "sequence_2.dna_sequence = 'aattccgg'\r\n",
        "print(sequence_2.dna_sequence)"
      ],
      "execution_count": null,
      "outputs": [
        {
          "output_type": "stream",
          "text": [
            "atcg\n",
            "aatt\n",
            "atcg\n",
            "aattccgg\n"
          ],
          "name": "stdout"
        }
      ]
    },
    {
      "cell_type": "code",
      "metadata": {
        "id": "zi4KHEQIVAAq"
      },
      "source": [
        "class Sequence:\r\n",
        "  def __init__(self, dna_sequence): #construtor\r\n",
        "    self.dna_sequence = dna_sequence\r\n",
        "\r\n",
        "  def transcribe(self):\r\n",
        "    return transcribe(self.dna_sequence)\r\n",
        "\r\n",
        "  def translate(self):\r\n",
        "    return translate(self.dna_sequence)\r\n",
        "\r\n",
        "  def gc_content(self):\r\n",
        "    return gc_content(self.dna_sequence)"
      ],
      "execution_count": null,
      "outputs": []
    },
    {
      "cell_type": "code",
      "metadata": {
        "colab": {
          "base_uri": "https://localhost:8080/"
        },
        "id": "a32mzGe9VnkL",
        "outputId": "a73c876f-94cb-487d-decf-1a8c405eadfc"
      },
      "source": [
        "sequence_3 = Sequence('atgccaa')\r\n",
        "print(sequence_3.dna_sequence)\r\n",
        "\r\n",
        "print(sequence_3.transcribe())\r\n",
        "\r\n",
        "print(sequence_3.translate())\r\n",
        "\r\n",
        "print(sequence_3.gc_content())"
      ],
      "execution_count": null,
      "outputs": [
        {
          "output_type": "stream",
          "text": [
            "atgccaa\n",
            "augccaa\n",
            "mp\n",
            "0.42857142857142855\n"
          ],
          "name": "stdout"
        }
      ]
    }
  ]
}