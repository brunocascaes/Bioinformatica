{
  "nbformat": 4,
  "nbformat_minor": 0,
  "metadata": {
    "colab": {
      "name": "Atividade 3. Iteráveis.ipynb",
      "provenance": []
    },
    "kernelspec": {
      "name": "python3",
      "display_name": "Python 3"
    }
  },
  "cells": [
    {
      "cell_type": "markdown",
      "metadata": {
        "id": "tVsRW5ZhSaxq"
      },
      "source": [
        "# **Exercício iteráveis: Curso python para bioinformática**"
      ]
    },
    {
      "cell_type": "markdown",
      "metadata": {
        "id": "JEhbvtjjVCkY"
      },
      "source": [
        "## Tutorial"
      ]
    },
    {
      "cell_type": "markdown",
      "metadata": {
        "id": "6E5U-atXSrIT"
      },
      "source": [
        "### String"
      ]
    },
    {
      "cell_type": "code",
      "metadata": {
        "colab": {
          "base_uri": "https://localhost:8080/"
        },
        "id": "LjGEeoSkSuTw",
        "outputId": "18ec99c5-4185-4b7b-a82b-40c79255dc45"
      },
      "source": [
        "sequence = 'TCAGCTAGCATGCATGA'\r\n",
        "print('Primeiro nucleotídeo: ', sequence[0])\r\n",
        "print('Último nucleotídeo: ', sequence[-1])\r\n",
        "print('Quatro primeiros nucleotídeos: ', sequence[0:4])\r\n",
        "print('Primeiros nucleotídeos com passo 2: ', sequence[0:4:2])\r\n",
        "print('Nucleotídeos invertidos:', sequence[::-1])"
      ],
      "execution_count": null,
      "outputs": [
        {
          "output_type": "stream",
          "text": [
            "Primeiro nucleotídeo:  T\n",
            "Último nucleotídeo:  A\n",
            "Quatro primeiros nucleotídeos:  TCAG\n",
            "Primeiros nucleotídeos com passo 2:  TA\n",
            "Nucleotídeos invertidos: AGTACGTACGATCGACT\n"
          ],
          "name": "stdout"
        }
      ]
    },
    {
      "cell_type": "markdown",
      "metadata": {
        "id": "5WZTc6PLT5i2"
      },
      "source": [
        "### Lista"
      ]
    },
    {
      "cell_type": "code",
      "metadata": {
        "colab": {
          "base_uri": "https://localhost:8080/"
        },
        "id": "do_COspIT7GV",
        "outputId": "c8a42ad6-247f-4dd8-a935-81a53474c91f"
      },
      "source": [
        "numbers = [1, 2, 3, 4, 5, 6, 7]\r\n",
        "numbers[0:5:2]"
      ],
      "execution_count": null,
      "outputs": [
        {
          "output_type": "execute_result",
          "data": {
            "text/plain": [
              "[1, 3, 5]"
            ]
          },
          "metadata": {
            "tags": []
          },
          "execution_count": 13
        }
      ]
    },
    {
      "cell_type": "code",
      "metadata": {
        "colab": {
          "base_uri": "https://localhost:8080/"
        },
        "id": "cNo-B23_UU4K",
        "outputId": "58805cc0-51f0-469c-8c80-9a99cd02f97a"
      },
      "source": [
        "for nucleotide in sequence:\r\n",
        "  print(nucleotide)"
      ],
      "execution_count": null,
      "outputs": [
        {
          "output_type": "stream",
          "text": [
            "T\n",
            "C\n",
            "A\n",
            "G\n",
            "C\n",
            "T\n",
            "A\n",
            "G\n",
            "C\n",
            "A\n",
            "T\n",
            "G\n",
            "C\n",
            "A\n",
            "T\n",
            "G\n",
            "A\n"
          ],
          "name": "stdout"
        }
      ]
    },
    {
      "cell_type": "markdown",
      "metadata": {
        "id": "wavKwrzzUcKm"
      },
      "source": [
        "### Dicionário"
      ]
    },
    {
      "cell_type": "code",
      "metadata": {
        "colab": {
          "base_uri": "https://localhost:8080/"
        },
        "id": "eHaFo6nBUedt",
        "outputId": "22b94200-5550-45a2-a616-d1fb3c35eb9d"
      },
      "source": [
        "sequence_info = {'gene': 'omX', 'organism': 'Escherichia coli',\r\n",
        "                 'function': 'unknown'}\r\n",
        "for info in sequence_info:\r\n",
        "  print(info, sequence_info[info])"
      ],
      "execution_count": null,
      "outputs": [
        {
          "output_type": "stream",
          "text": [
            "gene omX\n",
            "organism Escherichia coli\n",
            "function unknown\n"
          ],
          "name": "stdout"
        }
      ]
    },
    {
      "cell_type": "markdown",
      "metadata": {
        "id": "eDcy-bi1VEqJ"
      },
      "source": [
        "## Atividade"
      ]
    },
    {
      "cell_type": "code",
      "metadata": {
        "id": "Ht4_d7_wNx0H"
      },
      "source": [
        "sequencia = 'ATGTCCGAATGATAA'"
      ],
      "execution_count": null,
      "outputs": []
    },
    {
      "cell_type": "code",
      "metadata": {
        "colab": {
          "base_uri": "https://localhost:8080/"
        },
        "id": "dSKeYa5xN1-N",
        "outputId": "1d20486d-3034-43ae-e1ac-a07b26bbd5e4"
      },
      "source": [
        "print('Três primeiros nucleotídeos: ', sequencia[0:3])"
      ],
      "execution_count": null,
      "outputs": [
        {
          "output_type": "stream",
          "text": [
            "Três primeiros nucleotídeos:  ATG\n"
          ],
          "name": "stdout"
        }
      ]
    },
    {
      "cell_type": "code",
      "metadata": {
        "colab": {
          "base_uri": "https://localhost:8080/"
        },
        "id": "6Nm0UT4AOCEm",
        "outputId": "5cd6eb72-4a20-4d9e-f699-51765bf1eb3f"
      },
      "source": [
        "print('Três últimos nucleotídeos: ', sequencia[-3:])"
      ],
      "execution_count": null,
      "outputs": [
        {
          "output_type": "stream",
          "text": [
            "Três últimos nucleotídeos:  TAA\n"
          ],
          "name": "stdout"
        }
      ]
    }
  ]
}