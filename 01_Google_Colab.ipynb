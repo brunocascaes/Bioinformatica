{
  "nbformat": 4,
  "nbformat_minor": 0,
  "metadata": {
    "colab": {
      "name": "Atividade 1. Google Colab.ipynb",
      "provenance": [],
      "collapsed_sections": []
    },
    "kernelspec": {
      "name": "python3",
      "display_name": "Python 3"
    }
  },
  "cells": [
    {
      "cell_type": "markdown",
      "metadata": {
        "id": "Gp6XAvhr_Mxe"
      },
      "source": [
        "# **Exercício Colab: Curso python para bioinformática**"
      ]
    },
    {
      "cell_type": "markdown",
      "metadata": {
        "id": "yKndMI_M_ou_"
      },
      "source": [
        "## *Exercício introdutório*"
      ]
    },
    {
      "cell_type": "markdown",
      "metadata": {
        "id": "9XDlwmsI_2aH"
      },
      "source": [
        "### Instalar a biblioteca Pandas"
      ]
    },
    {
      "cell_type": "code",
      "metadata": {
        "colab": {
          "base_uri": "https://localhost:8080/"
        },
        "id": "VHrwhOavAWs0",
        "outputId": "67743734-b38e-4f7d-a159-a41e3026266d"
      },
      "source": [
        "!pip install pandas"
      ],
      "execution_count": null,
      "outputs": [
        {
          "output_type": "stream",
          "text": [
            "Requirement already satisfied: pandas in /usr/local/lib/python3.6/dist-packages (1.1.5)\n",
            "Requirement already satisfied: pytz>=2017.2 in /usr/local/lib/python3.6/dist-packages (from pandas) (2018.9)\n",
            "Requirement already satisfied: numpy>=1.15.4 in /usr/local/lib/python3.6/dist-packages (from pandas) (1.19.4)\n",
            "Requirement already satisfied: python-dateutil>=2.7.3 in /usr/local/lib/python3.6/dist-packages (from pandas) (2.8.1)\n",
            "Requirement already satisfied: six>=1.5 in /usr/local/lib/python3.6/dist-packages (from python-dateutil>=2.7.3->pandas) (1.15.0)\n"
          ],
          "name": "stdout"
        }
      ]
    },
    {
      "cell_type": "markdown",
      "metadata": {
        "id": "8CRfUkhzAA87"
      },
      "source": [
        "### Importar a biblioteca para o Colab"
      ]
    },
    {
      "cell_type": "code",
      "metadata": {
        "id": "W-kt1UjrAXzg"
      },
      "source": [
        "import pandas as pd #manipulação e análise de dados"
      ],
      "execution_count": null,
      "outputs": []
    },
    {
      "cell_type": "markdown",
      "metadata": {
        "id": "36x3zF1WJ_2q"
      },
      "source": [
        "### Atividades"
      ]
    },
    {
      "cell_type": "markdown",
      "metadata": {
        "id": "nTJoY-4uCT6e"
      },
      "source": [
        "![logo pandas](https://upload.wikimedia.org/wikipedia/commons/e/ed/Pandas_logo.svg)"
      ]
    },
    {
      "cell_type": "code",
      "metadata": {
        "colab": {
          "base_uri": "https://localhost:8080/"
        },
        "id": "k_lpaCOKCb-A",
        "outputId": "db368cce-6b79-4b7c-f51f-cf0567dd5461"
      },
      "source": [
        "days = 45234\r\n",
        "months = days/30 #considerando meses de 30 dias\r\n",
        "years = months/12\r\n",
        "print(\"Em \" + str(days) + \" dias existem \" + str(round(years, 2)) + \" anos.\")"
      ],
      "execution_count": null,
      "outputs": [
        {
          "output_type": "stream",
          "text": [
            "Em 45234 dias existem 125.65 anos.\n"
          ],
          "name": "stdout"
        }
      ]
    },
    {
      "cell_type": "code",
      "metadata": {
        "id": "-tE1FBHjEb8P"
      },
      "source": [
        "formula_days = lambda year: year * 360 #considerando meses de 30 dias"
      ],
      "execution_count": null,
      "outputs": []
    },
    {
      "cell_type": "code",
      "metadata": {
        "id": "3vLHDC7jH9th"
      },
      "source": [
        "formula_months = lambda year: year * 12 "
      ],
      "execution_count": null,
      "outputs": []
    },
    {
      "cell_type": "code",
      "metadata": {
        "id": "tYXKUeZSINZ7"
      },
      "source": [
        "df = pd.DataFrame(columns=['Dias', 'Meses', 'Anos'])"
      ],
      "execution_count": null,
      "outputs": []
    },
    {
      "cell_type": "code",
      "metadata": {
        "id": "8chX5L0CJkr4"
      },
      "source": [
        "for i in range(2, 8):\r\n",
        "  df.loc[i-1] = [formula_days(i), formula_months(i), i]"
      ],
      "execution_count": null,
      "outputs": []
    },
    {
      "cell_type": "code",
      "metadata": {
        "colab": {
          "base_uri": "https://localhost:8080/",
          "height": 235
        },
        "id": "2RUs9zBNJx0V",
        "outputId": "8fbee503-9027-4523-d749-cc50377af4a1"
      },
      "source": [
        "df"
      ],
      "execution_count": null,
      "outputs": [
        {
          "output_type": "execute_result",
          "data": {
            "text/html": [
              "<div>\n",
              "<style scoped>\n",
              "    .dataframe tbody tr th:only-of-type {\n",
              "        vertical-align: middle;\n",
              "    }\n",
              "\n",
              "    .dataframe tbody tr th {\n",
              "        vertical-align: top;\n",
              "    }\n",
              "\n",
              "    .dataframe thead th {\n",
              "        text-align: right;\n",
              "    }\n",
              "</style>\n",
              "<table border=\"1\" class=\"dataframe\">\n",
              "  <thead>\n",
              "    <tr style=\"text-align: right;\">\n",
              "      <th></th>\n",
              "      <th>Dias</th>\n",
              "      <th>Meses</th>\n",
              "      <th>Anos</th>\n",
              "    </tr>\n",
              "  </thead>\n",
              "  <tbody>\n",
              "    <tr>\n",
              "      <th>1</th>\n",
              "      <td>720</td>\n",
              "      <td>24</td>\n",
              "      <td>2</td>\n",
              "    </tr>\n",
              "    <tr>\n",
              "      <th>2</th>\n",
              "      <td>1080</td>\n",
              "      <td>36</td>\n",
              "      <td>3</td>\n",
              "    </tr>\n",
              "    <tr>\n",
              "      <th>3</th>\n",
              "      <td>1440</td>\n",
              "      <td>48</td>\n",
              "      <td>4</td>\n",
              "    </tr>\n",
              "    <tr>\n",
              "      <th>4</th>\n",
              "      <td>1800</td>\n",
              "      <td>60</td>\n",
              "      <td>5</td>\n",
              "    </tr>\n",
              "    <tr>\n",
              "      <th>5</th>\n",
              "      <td>2160</td>\n",
              "      <td>72</td>\n",
              "      <td>6</td>\n",
              "    </tr>\n",
              "    <tr>\n",
              "      <th>6</th>\n",
              "      <td>2520</td>\n",
              "      <td>84</td>\n",
              "      <td>7</td>\n",
              "    </tr>\n",
              "  </tbody>\n",
              "</table>\n",
              "</div>"
            ],
            "text/plain": [
              "   Dias Meses Anos\n",
              "1   720    24    2\n",
              "2  1080    36    3\n",
              "3  1440    48    4\n",
              "4  1800    60    5\n",
              "5  2160    72    6\n",
              "6  2520    84    7"
            ]
          },
          "metadata": {
            "tags": []
          },
          "execution_count": 33
        }
      ]
    }
  ]
}