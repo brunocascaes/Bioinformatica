{
  "nbformat": 4,
  "nbformat_minor": 0,
  "metadata": {
    "colab": {
      "name": "Atividade 6. Biblioteca Padrão.ipynb",
      "provenance": []
    },
    "kernelspec": {
      "name": "python3",
      "display_name": "Python 3"
    }
  },
  "cells": [
    {
      "cell_type": "markdown",
      "metadata": {
        "id": "foM0VPKkXOuN"
      },
      "source": [
        "# **Exercício biblioteca padrão: Curso python para bioinformática**"
      ]
    },
    {
      "cell_type": "markdown",
      "metadata": {
        "id": "Yb2yt_VFZ5e-"
      },
      "source": [
        "### Biblioteca OS"
      ]
    },
    {
      "cell_type": "code",
      "metadata": {
        "id": "mjHnhQG4XH4R"
      },
      "source": [
        "import os"
      ],
      "execution_count": null,
      "outputs": []
    },
    {
      "cell_type": "code",
      "metadata": {
        "colab": {
          "base_uri": "https://localhost:8080/"
        },
        "id": "LVwr3QG-Xpps",
        "outputId": "9c482843-d834-4be1-e4fa-ae6e362d152d"
      },
      "source": [
        "os.listdir()"
      ],
      "execution_count": null,
      "outputs": [
        {
          "output_type": "execute_result",
          "data": {
            "text/plain": [
              "['.config', 'sample_data']"
            ]
          },
          "metadata": {
            "tags": []
          },
          "execution_count": 12
        }
      ]
    },
    {
      "cell_type": "code",
      "metadata": {
        "colab": {
          "base_uri": "https://localhost:8080/",
          "height": 35
        },
        "id": "m1qaZl0XYPoT",
        "outputId": "6a8fae05-d9a4-431c-ebca-3c0ca2b471da"
      },
      "source": [
        "os.chdir('sample_data') #altera a pasta\r\n",
        "os.getcwd()"
      ],
      "execution_count": null,
      "outputs": [
        {
          "output_type": "execute_result",
          "data": {
            "application/vnd.google.colaboratory.intrinsic+json": {
              "type": "string"
            },
            "text/plain": [
              "'/content/sample_data'"
            ]
          },
          "metadata": {
            "tags": []
          },
          "execution_count": 13
        }
      ]
    },
    {
      "cell_type": "code",
      "metadata": {
        "colab": {
          "base_uri": "https://localhost:8080/",
          "height": 35
        },
        "id": "ZE6EUkusYiI1",
        "outputId": "3d08c285-db27-4937-f043-baa0b2d64218"
      },
      "source": [
        "os.chdir('..') #retorna\r\n",
        "os.getcwd()"
      ],
      "execution_count": null,
      "outputs": [
        {
          "output_type": "execute_result",
          "data": {
            "application/vnd.google.colaboratory.intrinsic+json": {
              "type": "string"
            },
            "text/plain": [
              "'/content'"
            ]
          },
          "metadata": {
            "tags": []
          },
          "execution_count": 14
        }
      ]
    },
    {
      "cell_type": "code",
      "metadata": {
        "colab": {
          "base_uri": "https://localhost:8080/"
        },
        "id": "bY9_6FcyY7uW",
        "outputId": "5bc1d562-a778-409b-8c4d-b2adf9122206"
      },
      "source": [
        "os.mkdir('nova_pasta')\r\n",
        "os.listdir()"
      ],
      "execution_count": null,
      "outputs": [
        {
          "output_type": "execute_result",
          "data": {
            "text/plain": [
              "['.config', '.ipynb_checkpoints', 'nova_pasta', 'sample_data']"
            ]
          },
          "metadata": {
            "tags": []
          },
          "execution_count": 18
        }
      ]
    },
    {
      "cell_type": "code",
      "metadata": {
        "colab": {
          "base_uri": "https://localhost:8080/"
        },
        "id": "mwtmCF3YZIGD",
        "outputId": "578b4c5c-7ac0-47e7-fe57-71278282f83e"
      },
      "source": [
        "os.removedirs('nova_pasta')\r\n",
        "os.listdir()"
      ],
      "execution_count": null,
      "outputs": [
        {
          "output_type": "execute_result",
          "data": {
            "text/plain": [
              "['.config', '.ipynb_checkpoints', 'sample_data']"
            ]
          },
          "metadata": {
            "tags": []
          },
          "execution_count": 19
        }
      ]
    },
    {
      "cell_type": "code",
      "metadata": {
        "id": "U24KGJarZVzJ"
      },
      "source": [
        "folders = ['dog', 'cat']\r\n",
        "for item in folders:\r\n",
        "  os.mkdir(item)"
      ],
      "execution_count": null,
      "outputs": []
    },
    {
      "cell_type": "code",
      "metadata": {
        "colab": {
          "base_uri": "https://localhost:8080/"
        },
        "id": "oBE8xsIPZoVF",
        "outputId": "e9ed70e1-73d0-4c88-c517-c53572e704f7"
      },
      "source": [
        "os.listdir()"
      ],
      "execution_count": null,
      "outputs": [
        {
          "output_type": "execute_result",
          "data": {
            "text/plain": [
              "['.config', '.ipynb_checkpoints', 'dog', 'cat', 'sample_data']"
            ]
          },
          "metadata": {
            "tags": []
          },
          "execution_count": 21
        }
      ]
    },
    {
      "cell_type": "markdown",
      "metadata": {
        "id": "RWxrH4VjZ_2-"
      },
      "source": [
        "### Biblioteca Random"
      ]
    },
    {
      "cell_type": "code",
      "metadata": {
        "id": "2uAH-PUDaBYH"
      },
      "source": [
        "import random"
      ],
      "execution_count": null,
      "outputs": []
    },
    {
      "cell_type": "code",
      "metadata": {
        "colab": {
          "base_uri": "https://localhost:8080/"
        },
        "id": "Zs-YdFXraESd",
        "outputId": "8f698f94-f442-4c1b-e50d-53ccf55356d2"
      },
      "source": [
        "random.random() #numero aleatorio entre 0 e 1"
      ],
      "execution_count": null,
      "outputs": [
        {
          "output_type": "execute_result",
          "data": {
            "text/plain": [
              "0.665342816603177"
            ]
          },
          "metadata": {
            "tags": []
          },
          "execution_count": 25
        }
      ]
    },
    {
      "cell_type": "code",
      "metadata": {
        "colab": {
          "base_uri": "https://localhost:8080/",
          "height": 35
        },
        "id": "KkzFfM0KaNPF",
        "outputId": "627d9416-3830-4a01-bad5-3acbf8f97779"
      },
      "source": [
        "list = ['bluel', 'black', 'red', 'green', 'orange']\r\n",
        "random.choice(list)"
      ],
      "execution_count": null,
      "outputs": [
        {
          "output_type": "execute_result",
          "data": {
            "application/vnd.google.colaboratory.intrinsic+json": {
              "type": "string"
            },
            "text/plain": [
              "'green'"
            ]
          },
          "metadata": {
            "tags": []
          },
          "execution_count": 26
        }
      ]
    },
    {
      "cell_type": "code",
      "metadata": {
        "colab": {
          "base_uri": "https://localhost:8080/"
        },
        "id": "Rxhc_3fPaLAv",
        "outputId": "7154754c-1391-4626-8117-f52df546da14"
      },
      "source": [
        "random.sample(list, k=2)"
      ],
      "execution_count": null,
      "outputs": [
        {
          "output_type": "execute_result",
          "data": {
            "text/plain": [
              "['green', 'red']"
            ]
          },
          "metadata": {
            "tags": []
          },
          "execution_count": 28
        }
      ]
    },
    {
      "cell_type": "code",
      "metadata": {
        "colab": {
          "base_uri": "https://localhost:8080/"
        },
        "id": "IzHxQJRmamvr",
        "outputId": "ab0c9458-cbf5-4638-fe57-c457830ff0ef"
      },
      "source": [
        "random.sample(range(100), k=2)"
      ],
      "execution_count": null,
      "outputs": [
        {
          "output_type": "execute_result",
          "data": {
            "text/plain": [
              "[23, 40]"
            ]
          },
          "metadata": {
            "tags": []
          },
          "execution_count": 30
        }
      ]
    },
    {
      "cell_type": "markdown",
      "metadata": {
        "id": "b36KDIvBaxNo"
      },
      "source": [
        "### Biblioteca Statistics"
      ]
    },
    {
      "cell_type": "code",
      "metadata": {
        "id": "bR0UwlDQa0jM"
      },
      "source": [
        "import statistics"
      ],
      "execution_count": null,
      "outputs": []
    },
    {
      "cell_type": "code",
      "metadata": {
        "id": "sSycuqfma10I"
      },
      "source": [
        "data = [1, 3, 5, 6, 8, 10, 22, 40, 60]"
      ],
      "execution_count": null,
      "outputs": []
    },
    {
      "cell_type": "code",
      "metadata": {
        "colab": {
          "base_uri": "https://localhost:8080/"
        },
        "id": "ynUaXNJ2bCNO",
        "outputId": "be2ec797-b8a9-49fa-dc68-2182e909dd2e"
      },
      "source": [
        "statistics.mean(data) #media"
      ],
      "execution_count": null,
      "outputs": [
        {
          "output_type": "execute_result",
          "data": {
            "text/plain": [
              "17.22222222222222"
            ]
          },
          "metadata": {
            "tags": []
          },
          "execution_count": 33
        }
      ]
    },
    {
      "cell_type": "code",
      "metadata": {
        "colab": {
          "base_uri": "https://localhost:8080/"
        },
        "id": "02_NgYhZbFVm",
        "outputId": "102fbbf2-4ea9-4384-facd-97fee9ff218e"
      },
      "source": [
        "statistics.harmonic_mean(data)"
      ],
      "execution_count": null,
      "outputs": [
        {
          "output_type": "execute_result",
          "data": {
            "text/plain": [
              "4.47289156626506"
            ]
          },
          "metadata": {
            "tags": []
          },
          "execution_count": 35
        }
      ]
    },
    {
      "cell_type": "code",
      "metadata": {
        "colab": {
          "base_uri": "https://localhost:8080/"
        },
        "id": "1Fp8tzV-bW__",
        "outputId": "ef88e78e-c07c-44b3-e5c0-3b8d22649c0a"
      },
      "source": [
        "statistics.median(data) #mediana"
      ],
      "execution_count": null,
      "outputs": [
        {
          "output_type": "execute_result",
          "data": {
            "text/plain": [
              "8"
            ]
          },
          "metadata": {
            "tags": []
          },
          "execution_count": 36
        }
      ]
    },
    {
      "cell_type": "code",
      "metadata": {
        "colab": {
          "base_uri": "https://localhost:8080/"
        },
        "id": "Mnh13dBZbbPR",
        "outputId": "6e598bd1-68f3-4606-f782-b56127282fa3"
      },
      "source": [
        "statistics.stdev(data) #desvio padrão"
      ],
      "execution_count": null,
      "outputs": [
        {
          "output_type": "execute_result",
          "data": {
            "text/plain": [
              "20.154266159908786"
            ]
          },
          "metadata": {
            "tags": []
          },
          "execution_count": 37
        }
      ]
    },
    {
      "cell_type": "markdown",
      "metadata": {
        "id": "rYdS3FenbpOF"
      },
      "source": [
        "### Biblioteca Math"
      ]
    },
    {
      "cell_type": "code",
      "metadata": {
        "id": "tImFUyxEbiFp"
      },
      "source": [
        "import math"
      ],
      "execution_count": null,
      "outputs": []
    },
    {
      "cell_type": "code",
      "metadata": {
        "colab": {
          "base_uri": "https://localhost:8080/"
        },
        "id": "iu7H4P15bsTP",
        "outputId": "e467728d-2dbd-4e12-eb55-7015c3c46630"
      },
      "source": [
        "math.sqrt(9)"
      ],
      "execution_count": null,
      "outputs": [
        {
          "output_type": "execute_result",
          "data": {
            "text/plain": [
              "3.0"
            ]
          },
          "metadata": {
            "tags": []
          },
          "execution_count": 39
        }
      ]
    },
    {
      "cell_type": "code",
      "metadata": {
        "colab": {
          "base_uri": "https://localhost:8080/"
        },
        "id": "4SL2btMDbuzY",
        "outputId": "14e61b33-6202-4415-cc49-1fe98e444f06"
      },
      "source": [
        "math.pow(2, 10)"
      ],
      "execution_count": null,
      "outputs": [
        {
          "output_type": "execute_result",
          "data": {
            "text/plain": [
              "1024.0"
            ]
          },
          "metadata": {
            "tags": []
          },
          "execution_count": 40
        }
      ]
    },
    {
      "cell_type": "code",
      "metadata": {
        "colab": {
          "base_uri": "https://localhost:8080/"
        },
        "id": "hF2K-0-RbzjW",
        "outputId": "c09fac30-b079-4134-f858-8a8252bebfce"
      },
      "source": [
        "math.cos(30)"
      ],
      "execution_count": null,
      "outputs": [
        {
          "output_type": "execute_result",
          "data": {
            "text/plain": [
              "0.15425144988758405"
            ]
          },
          "metadata": {
            "tags": []
          },
          "execution_count": 41
        }
      ]
    },
    {
      "cell_type": "code",
      "metadata": {
        "colab": {
          "base_uri": "https://localhost:8080/"
        },
        "id": "qbGcoxaJb057",
        "outputId": "dd44c895-3eb4-49cb-a764-cd76a106e8c4"
      },
      "source": [
        "math.tan(30)"
      ],
      "execution_count": null,
      "outputs": [
        {
          "output_type": "execute_result",
          "data": {
            "text/plain": [
              "-6.405331196646276"
            ]
          },
          "metadata": {
            "tags": []
          },
          "execution_count": 42
        }
      ]
    },
    {
      "cell_type": "markdown",
      "metadata": {
        "id": "KRKddOkgb8BQ"
      },
      "source": [
        "### Atividade"
      ]
    },
    {
      "cell_type": "code",
      "metadata": {
        "colab": {
          "base_uri": "https://localhost:8080/",
          "height": 35
        },
        "id": "ksekMaQKb98I",
        "outputId": "fc20c7df-77a1-494b-8c15-21486315e908"
      },
      "source": [
        "os.getcwd() #nome atual do diretorio"
      ],
      "execution_count": null,
      "outputs": [
        {
          "output_type": "execute_result",
          "data": {
            "application/vnd.google.colaboratory.intrinsic+json": {
              "type": "string"
            },
            "text/plain": [
              "'/content'"
            ]
          },
          "metadata": {
            "tags": []
          },
          "execution_count": 43
        }
      ]
    },
    {
      "cell_type": "code",
      "metadata": {
        "id": "Kmf8DbvhcBf9",
        "colab": {
          "base_uri": "https://localhost:8080/"
        },
        "outputId": "ff16456f-d66c-4475-d033-4f8da324355d"
      },
      "source": [
        "list = [1, 2, 3, 5, 10, 25]\r\n",
        "statistics.mean(list)"
      ],
      "execution_count": null,
      "outputs": [
        {
          "output_type": "execute_result",
          "data": {
            "text/plain": [
              "7.666666666666667"
            ]
          },
          "metadata": {
            "tags": []
          },
          "execution_count": 44
        }
      ]
    }
  ]
}