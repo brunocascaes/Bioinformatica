{
  "nbformat": 4,
  "nbformat_minor": 0,
  "metadata": {
    "colab": {
      "name": "Atividade 7. BioPython parte I.ipynb",
      "provenance": [],
      "collapsed_sections": [],
      "toc_visible": true
    },
    "kernelspec": {
      "name": "python3",
      "display_name": "Python 3"
    }
  },
  "cells": [
    {
      "cell_type": "markdown",
      "metadata": {
        "id": "kmWOch0OeXzH"
      },
      "source": [
        "# **Exercício BioPython Parte I: Curso python para bioinformática**"
      ]
    },
    {
      "cell_type": "code",
      "metadata": {
        "colab": {
          "base_uri": "https://localhost:8080/"
        },
        "id": "LHcxjOKaeGc3",
        "outputId": "5958890f-6729-4de6-989c-010b810bee29"
      },
      "source": [
        "!pip install biopython"
      ],
      "execution_count": null,
      "outputs": [
        {
          "output_type": "stream",
          "text": [
            "Collecting biopython\n",
            "\u001b[?25l  Downloading https://files.pythonhosted.org/packages/76/02/8b606c4aa92ff61b5eda71d23b499ab1de57d5e818be33f77b01a6f435a8/biopython-1.78-cp36-cp36m-manylinux1_x86_64.whl (2.3MB)\n",
            "\u001b[K     |████████████████████████████████| 2.3MB 7.8MB/s \n",
            "\u001b[?25hRequirement already satisfied: numpy in /usr/local/lib/python3.6/dist-packages (from biopython) (1.19.5)\n",
            "Installing collected packages: biopython\n",
            "Successfully installed biopython-1.78\n"
          ],
          "name": "stdout"
        }
      ]
    },
    {
      "cell_type": "code",
      "metadata": {
        "id": "vgxG9D19epVW"
      },
      "source": [
        "from Bio.Seq import Seq #permite definir sequencias biologicas"
      ],
      "execution_count": null,
      "outputs": []
    },
    {
      "cell_type": "code",
      "metadata": {
        "colab": {
          "base_uri": "https://localhost:8080/"
        },
        "id": "tiCBzT1Qe2WQ",
        "outputId": "c6f3684a-5d52-4a5a-ac5f-1f39e6dac866"
      },
      "source": [
        "sequence = Seq('TCGATCAGCTAGCATGCATCA')\r\n",
        "sequence"
      ],
      "execution_count": null,
      "outputs": [
        {
          "output_type": "execute_result",
          "data": {
            "text/plain": [
              "Seq('TCGATCAGCTAGCATGCATCA')"
            ]
          },
          "metadata": {
            "tags": []
          },
          "execution_count": 8
        }
      ]
    },
    {
      "cell_type": "code",
      "metadata": {
        "colab": {
          "base_uri": "https://localhost:8080/"
        },
        "id": "qEYoLmtlfaSV",
        "outputId": "0d8cb185-a377-4fc6-b73f-2ae4a4d0dde9"
      },
      "source": [
        "sequence.transcribe()"
      ],
      "execution_count": null,
      "outputs": [
        {
          "output_type": "execute_result",
          "data": {
            "text/plain": [
              "Seq('UCGAUCAGCUAGCAUGCAUCA')"
            ]
          },
          "metadata": {
            "tags": []
          },
          "execution_count": 6
        }
      ]
    },
    {
      "cell_type": "code",
      "metadata": {
        "colab": {
          "base_uri": "https://localhost:8080/"
        },
        "id": "_V3cpSUkff-L",
        "outputId": "85429f25-1417-498d-bb05-994dfa9bd1bd"
      },
      "source": [
        "sequence.translate()"
      ],
      "execution_count": null,
      "outputs": [
        {
          "output_type": "execute_result",
          "data": {
            "text/plain": [
              "Seq('SIS*HAS')"
            ]
          },
          "metadata": {
            "tags": []
          },
          "execution_count": 7
        }
      ]
    },
    {
      "cell_type": "code",
      "metadata": {
        "colab": {
          "base_uri": "https://localhost:8080/"
        },
        "id": "k5gVbH8YfnHy",
        "outputId": "f75dd0ba-b6a0-4e23-d9cf-a9de1af79a46"
      },
      "source": [
        "sequence.reverse_complement()"
      ],
      "execution_count": null,
      "outputs": [
        {
          "output_type": "execute_result",
          "data": {
            "text/plain": [
              "Seq('TGATGCATGCTAGCTGATCGA')"
            ]
          },
          "metadata": {
            "tags": []
          },
          "execution_count": 9
        }
      ]
    },
    {
      "cell_type": "code",
      "metadata": {
        "colab": {
          "base_uri": "https://localhost:8080/"
        },
        "id": "7_TcphK2fpAx",
        "outputId": "7f52ea29-73cd-45c3-97e4-d95eb1296468"
      },
      "source": [
        "sequence[0:3]"
      ],
      "execution_count": null,
      "outputs": [
        {
          "output_type": "execute_result",
          "data": {
            "text/plain": [
              "Seq('TCG')"
            ]
          },
          "metadata": {
            "tags": []
          },
          "execution_count": 10
        }
      ]
    },
    {
      "cell_type": "code",
      "metadata": {
        "id": "uaqm7rqsgCyy"
      },
      "source": [
        "#permite definir uma sequencia, contendo anotações sobre ela\r\n",
        "from Bio.SeqRecord import SeqRecord\r\n",
        "from Bio.SeqFeature import SeqFeature, FeatureLocation"
      ],
      "execution_count": null,
      "outputs": []
    },
    {
      "cell_type": "code",
      "metadata": {
        "id": "nQj4Q9exgpJX"
      },
      "source": [
        "sequence = Seq('ATGGCAAAAGAGTGA') #sequencia de 15 aminoacidos, 5 codons\r\n",
        "features = [\r\n",
        "            SeqFeature(FeatureLocation(0, 15, strand=1), type = 'gene',\r\n",
        "                       qualifiers={'locus_tag': ['omx_0001'], 'gene': ['omX']})\r\n",
        "           ]\r\n",
        "\r\n",
        "record = SeqRecord(\r\n",
        "              sequence,\r\n",
        "              id = 'OMX001.1',\r\n",
        "              name = 'omX',\r\n",
        "              description = 'omixicin',\r\n",
        "              annotations = {'molecule_type': 'DNA'},\r\n",
        "              features = features\r\n",
        "          )"
      ],
      "execution_count": null,
      "outputs": []
    },
    {
      "cell_type": "code",
      "metadata": {
        "colab": {
          "base_uri": "https://localhost:8080/"
        },
        "id": "9DiY-G5wiQyZ",
        "outputId": "478ba981-6b3d-4ffc-c517-7fa036c2cdb1"
      },
      "source": [
        "record"
      ],
      "execution_count": null,
      "outputs": [
        {
          "output_type": "execute_result",
          "data": {
            "text/plain": [
              "SeqRecord(seq=Seq('ATGGCAAAAGAGTGA'), id='OMX001.1', name='omX', description='omixicin', dbxrefs=[])"
            ]
          },
          "metadata": {
            "tags": []
          },
          "execution_count": 21
        }
      ]
    },
    {
      "cell_type": "code",
      "metadata": {
        "colab": {
          "base_uri": "https://localhost:8080/"
        },
        "id": "pqOQQu7_i3lL",
        "outputId": "1b8a5395-e9a5-413f-b0d6-74283c4078b7"
      },
      "source": [
        "print(record.format('genbank'))"
      ],
      "execution_count": null,
      "outputs": [
        {
          "output_type": "stream",
          "text": [
            "LOCUS       omX                       15 bp    DNA              UNK 01-JAN-1980\n",
            "DEFINITION  omixicin.\n",
            "ACCESSION   OMX001\n",
            "VERSION     OMX001.1\n",
            "KEYWORDS    .\n",
            "SOURCE      .\n",
            "  ORGANISM  .\n",
            "            .\n",
            "FEATURES             Location/Qualifiers\n",
            "     gene            1..15\n",
            "                     /locus_tag=\"omx_0001\"\n",
            "                     /gene=\"omX\"\n",
            "ORIGIN\n",
            "        1 atggcaaaag agtga\n",
            "//\n",
            "\n"
          ],
          "name": "stdout"
        }
      ]
    },
    {
      "cell_type": "code",
      "metadata": {
        "colab": {
          "base_uri": "https://localhost:8080/"
        },
        "id": "AK_y-p4iiVo3",
        "outputId": "1a3468c5-c29a-4454-dca3-0cb0477246bd"
      },
      "source": [
        "print(record.format('embl'))"
      ],
      "execution_count": null,
      "outputs": [
        {
          "output_type": "stream",
          "text": [
            "ID   OMX001; SV 1; ; DNA; ; UNC; 15 BP.\n",
            "XX\n",
            "AC   OMX001;\n",
            "XX\n",
            "DE   omixicin\n",
            "XX\n",
            "OS   .\n",
            "OC   .\n",
            "XX\n",
            "FH   Key             Location/Qualifiers\n",
            "FH\n",
            "FT   gene            1..15\n",
            "FT                   /locus_tag=\"omx_0001\"\n",
            "FT                   /gene=\"omX\"\n",
            "XX\n",
            "SQ   Sequence 15 BP; 7 A; 1 C; 5 G; 2 T; 0 other;\n",
            "     atggcaaaag agtga                                                         15\n",
            "//\n",
            "\n"
          ],
          "name": "stdout"
        }
      ]
    },
    {
      "cell_type": "code",
      "metadata": {
        "colab": {
          "base_uri": "https://localhost:8080/"
        },
        "id": "1fA9Byypi8Kx",
        "outputId": "a9536448-f21e-43b8-afbe-8613fe0c7ded"
      },
      "source": [
        "print(record.format('fasta'))"
      ],
      "execution_count": null,
      "outputs": [
        {
          "output_type": "stream",
          "text": [
            ">OMX001.1 omixicin\n",
            "ATGGCAAAAGAGTGA\n",
            "\n"
          ],
          "name": "stdout"
        }
      ]
    },
    {
      "cell_type": "code",
      "metadata": {
        "id": "1d3Gxf8HjQGx"
      },
      "source": [
        "from Bio import SeqIO"
      ],
      "execution_count": null,
      "outputs": []
    },
    {
      "cell_type": "code",
      "metadata": {
        "id": "ywTTxU7SjV6h"
      },
      "source": [
        "with open('annotation.gb', 'w') as writer:\r\n",
        "  SeqIO.write([record], writer, 'genbank')"
      ],
      "execution_count": null,
      "outputs": []
    },
    {
      "cell_type": "code",
      "metadata": {
        "colab": {
          "base_uri": "https://localhost:8080/"
        },
        "id": "axpxUom3jk0w",
        "outputId": "ced13566-b1bd-41b8-9e1b-a0fdb690645e"
      },
      "source": [
        "with open('annotation.gb', 'r') as reader:\r\n",
        "  parser = SeqIO.parse(reader, 'genbank')\r\n",
        "  for record in parser:\r\n",
        "    print(record.id)\r\n",
        "    for feature in record.features:\r\n",
        "      print(feature.type, feature.location.start, feature.location.end)"
      ],
      "execution_count": null,
      "outputs": [
        {
          "output_type": "stream",
          "text": [
            "OMX001.1\n",
            "gene 0 15\n"
          ],
          "name": "stdout"
        }
      ]
    }
  ]
}